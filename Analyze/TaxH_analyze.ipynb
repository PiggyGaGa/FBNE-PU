{
 "cells": [
  {
   "cell_type": "code",
   "execution_count": null,
   "metadata": {},
   "outputs": [],
   "source": [
    "import pymysql\n",
    "import pandas as pd\n",
    "import numpy as np\n",
    "from GraphConstruct import GraphConstruct\n",
    "from matplotlib import pyplot as plt\n",
    "import networkx as nx\n",
    "# 网络里如果发票信息不全，有空字符串存在，读入的时候就是None，如果某个节点是None的话，就会出现很多问题"
   ]
  },
  {
   "cell_type": "code",
   "execution_count": null,
   "metadata": {},
   "outputs": [],
   "source": [
    "connection = pymysql.connect(\n",
    "    host = '127.0.0.1',\n",
    "    user = '***', \n",
    "    password = '******',\n",
    "    database = '****',\n",
    "    port = 3306,\n",
    "    charset = 'utf8mb4', \n",
    "    cursorclass = pymysql.cursors.Cursor)"
   ]
  },
  {
   "cell_type": "code",
   "execution_count": null,
   "metadata": {},
   "outputs": [],
   "source": [
    "try:\n",
    "    with connection.cursor() as cursor:\n",
    "        # Read a single record\n",
    "        sql = \"SELECT XFNSRDZDAH, GFNSRDZDAH from tax.VAT_invoice\"\n",
    "        cursor.execute(sql)\n",
    "        result = cursor.fetchall()\n",
    "        # 用 'XUJIAFAPIAO' 代替 None\n",
    "        edges = []\n",
    "        n = 0\n",
    "        for edge in result:\n",
    "            edge = list(edge)\n",
    "            if edge[0] == None:\n",
    "                edge[0] = 'XUJIAFAPIAO'\n",
    "                n += 1\n",
    "            if edge[1] == None:\n",
    "                edge[1] = 'XUJIAFAPIAO'\n",
    "                n += 1\n",
    "            edges.append(edge)\n",
    "        print('None exist {} times'.format(n))\n",
    "        result = pd.DataFrame(edges)\n",
    "        result.drop_duplicates(inplace=True) # remove duplicate\n",
    "        result = result.values\n",
    "\n",
    "finally:\n",
    "    print('get 销方纳税人电子档案号和购方纳税人电子档案号！')\n",
    "    #connection.close()"
   ]
  },
  {
   "cell_type": "code",
   "execution_count": null,
   "metadata": {},
   "outputs": [],
   "source": [
    "result"
   ]
  },
  {
   "cell_type": "code",
   "execution_count": null,
   "metadata": {},
   "outputs": [],
   "source": []
  },
  {
   "cell_type": "code",
   "execution_count": null,
   "metadata": {},
   "outputs": [],
   "source": [
    "try:\n",
    "    with connection.cursor() as cursor:\n",
    "        # Read a single record\n",
    "        sql = \"SELECT NSRDZDAH FROM tax.XYQY\"\n",
    "        cursor.execute(sql)\n",
    "        xukai = cursor.fetchall()\n",
    "        #print(result[0][0])\n",
    "finally:\n",
    "    print('获取虚开名单')\n",
    "    #connection.close()"
   ]
  },
  {
   "cell_type": "code",
   "execution_count": null,
   "metadata": {},
   "outputs": [],
   "source": [
    "new_xukai = []\n",
    "for item in xukai:\n",
    "    new_xukai.append(item[0])\n",
    "new_xukai.append('XUJIAFAPIAO')"
   ]
  },
  {
   "cell_type": "code",
   "execution_count": null,
   "metadata": {},
   "outputs": [],
   "source": [
    "container = GraphConstruct()"
   ]
  },
  {
   "cell_type": "code",
   "execution_count": null,
   "metadata": {},
   "outputs": [],
   "source": []
  },
  {
   "cell_type": "code",
   "execution_count": null,
   "metadata": {
    "scrolled": true
   },
   "outputs": [],
   "source": [
    "G = container.construct_network(result)"
   ]
  },
  {
   "cell_type": "code",
   "execution_count": null,
   "metadata": {},
   "outputs": [],
   "source": [
    "# 为网络的节点添加属性\n",
    "for node in G.nodes():\n",
    "    G.add_node(node, xukai=False)\n",
    "    \n",
    "for node in new_xukai:\n",
    "    G.add_node(node, xukai=True)"
   ]
  },
  {
   "cell_type": "code",
   "execution_count": null,
   "metadata": {},
   "outputs": [],
   "source": [
    "# in degree 其实没有入度和出度，因为是无向图\n",
    "in_degrees = list(G.degree())\n",
    "in_degree = [value[1] for value in in_degrees]\n",
    "# max degree of the network\n",
    "in_degree_num = {}\n",
    "for i in in_degree:\n",
    "    if i in in_degree_num:\n",
    "        in_degree_num[i] += 1\n",
    "    else:\n",
    "        in_degree_num[i] = 1    \n",
    "x = sorted(in_degree_num)\n",
    "y = [in_degree_num[k] for k in x]\n",
    "y = np.array(y) / G.number_of_nodes()\n",
    "save = pd.DataFrame({'x':x, 'y':y})\n",
    "save.to_pickle('./Figure/hb.pickle')\n",
    "plt.xlabel('Degree')\n",
    "plt.ylabel('Count')\n",
    "plt.loglog(x, y)\n",
    "plt.savefig('./Figure/HeBei.pdf')\n",
    "# 度分布呈现幂率分布特性，典型的无标度网络\n",
    "plt.show()\n",
    "sum_degree = 0\n",
    "for i in range(len(x)):\n",
    "    sum_degree = sum_degree + x[i] * y[i]\n",
    "average_degree = sum_degree / len(G.nodes())\n",
    "print('average degree', average_degree)"
   ]
  },
  {
   "cell_type": "code",
   "execution_count": null,
   "metadata": {},
   "outputs": [],
   "source": [
    "# 集聚系数 平均集聚系数\n",
    "#随机网络的平均聚集系数Crand为：0.0003463，C/Crand=78.689，所以C>>Crand，该社交网络的平均聚集系数这一特征也符合小世界网络的特征。\n",
    "# subgraphs_nodes = nx.connected_components(G)\n",
    "# subgraphs = []\n",
    "# for c in sorted(subgraphs_nodes, key=len,reverse=True):\n",
    "#     subgraphs.append(G.subgraph(c))\n",
    "# print(subgraphs[0].edges())\n",
    "# clusters = nx.clustering(subgraphs[0], nodes=None)\n",
    "# print(clusters)\n",
    "#print(type(list(G.nodes())[0]))\n",
    "avg_clusters = nx.average_clustering(G)\n",
    "avg_clusters"
   ]
  },
  {
   "cell_type": "code",
   "execution_count": null,
   "metadata": {},
   "outputs": [],
   "source": [
    "# cliques   团，小圈子\n",
    "\n",
    "cliques = nx.graph_number_of_cliques(G)\n",
    "\n",
    "cliques"
   ]
  },
  {
   "cell_type": "code",
   "execution_count": null,
   "metadata": {},
   "outputs": [],
   "source": [
    "\n",
    "# density\n",
    "\n",
    "density = nx.density(G)\n",
    "\n",
    "density\n",
    "\n",
    "# 密度非常低表示边的连接比较稀疏\n"
   ]
  },
  {
   "cell_type": "code",
   "execution_count": null,
   "metadata": {},
   "outputs": [],
   "source": [
    "subgraphs_nodes = nx.connected_components(G)\n",
    "subgraphs = []\n",
    "for c in sorted(subgraphs_nodes, key=len,reverse=True):\n",
    "    print(len(c))\n",
    "    subgraphs.append(G.subgraph(c))\n",
    "\n",
    "print('number of subgraphs {}'.format(len(subgraphs)))"
   ]
  },
  {
   "cell_type": "code",
   "execution_count": null,
   "metadata": {},
   "outputs": [],
   "source": [
    "\n",
    "# 直径\n",
    "\n",
    "# 直径表示交易的长度\n",
    "\n",
    "# diameter = nx.diameter(subgraphs[0])\n",
    "\n",
    "# diameter\n",
    "\n",
    "# 中心度\n",
    "\n",
    "# 1， 点中心度， 2， 紧密中心度， 3， 介数中心度， 4， 特征向量中心度"
   ]
  },
  {
   "cell_type": "code",
   "execution_count": null,
   "metadata": {},
   "outputs": [],
   "source": [
    "import community\n",
    "def get_subgraphs(G):\n",
    "    subgraphs_nodes = nx.connected_components(G)\n",
    "    subgraphs = []\n",
    "    for c in sorted(subgraphs_nodes, key=len,reverse=True):\n",
    "        subgraphs.append(G.subgraph(c))\n",
    "    new_subgraphs = []\n",
    "    new_subgraphs = new_subgraphs + subgraphs[1:]\n",
    "    partitions = community.best_partition(subgraphs[0])\n",
    "    for com in set(partitions.values()):\n",
    "        list_nodes = [nodes for nodes in partitions.keys() if partitions[nodes] == com]\n",
    "        new_subgraphs.append(nx.Graph(subgraphs[0].subgraph(list_nodes).edges()))\n",
    "    new_subgraphs = sorted(new_subgraphs, key=len, reverse=True)\n",
    "    print(len(new_subgraphs))\n",
    "    for i, graph in enumerate(new_subgraphs) :\n",
    "        if len(graph.nodes) > 1000:\n",
    "            print('{} graph information'.format(i))\n",
    "            print('nodes number {}'.format(len(graph.nodes())))\n",
    "            print('edges number {}\\n\\n'.format(len(graph.edges())))\n",
    "            nx.write_gexf(graph, './Figure/ShangHai/' +str(i) + '.gexf')\n",
    "    return new_subgraphs"
   ]
  },
  {
   "cell_type": "code",
   "execution_count": null,
   "metadata": {
    "scrolled": false
   },
   "outputs": [],
   "source": [
    "a = get_subgraphs(G)"
   ]
  },
  {
   "cell_type": "code",
   "execution_count": null,
   "metadata": {},
   "outputs": [],
   "source": [
    "def get_uniform_node_number_subgraphs(G):\n",
    "    import community\n",
    "    subgraphs_nodes = nx.connected_components(G)\n",
    "    subgraphs = []\n",
    "    for c in sorted(subgraphs_nodes, key=len,reverse=True):\n",
    "        ap_graph = nx.Graph()\n",
    "        ap_graph.add_nodes_from(c)\n",
    "        ap_graph.add_edges_from(G.subgraph(c).edges())\n",
    "        subgraphs.append(ap_graph)\n",
    "    new_subgraphs = []\n",
    "    new_subgraphs = new_subgraphs + subgraphs[1:]\n",
    "    partitions = community.best_partition(subgraphs[0])\n",
    "    for com in set(partitions.values()):\n",
    "        list_nodes = [nodes for nodes in partitions.keys() if partitions[nodes] == com]\n",
    "        ap_graph = nx.Graph()\n",
    "        ap_graph.add_nodes_from(list_nodes)\n",
    "        ap_graph.add_edges_from(subgraphs[0].subgraph(list_nodes).edges())\n",
    "        new_subgraphs.append(ap_graph)\n",
    "    new_subgraphs = sorted(new_subgraphs, key=len)\n",
    "\n",
    "\n",
    "    print('total subgraphs ', len(new_subgraphs))\n",
    "    result_subgraphs = []\n",
    "    insert_subgraphs = []\n",
    "    total_nodes = 0\n",
    "    index = 0\n",
    "    for g in new_subgraphs:\n",
    "        if index == 0:\n",
    "            insert_subgraphs.append(g)\n",
    "            total_nodes += g.number_of_nodes()\n",
    "            index += 1\n",
    "            continue\n",
    "        if total_nodes > 1000:\n",
    "            result_subgraphs.append(conn_graphs(insert_subgraphs))\n",
    "            total_nodes = 0\n",
    "            insert_subgraphs = []\n",
    "            index += 1\n",
    "            insert_subgraphs.append(g)\n",
    "        else:\n",
    "            insert_subgraphs.append(g)\n",
    "            total_nodes += g.number_of_nodes()\n",
    "            index += 1\n",
    "    if total_nodes > 0:\n",
    "        result_subgraphs.append(conn_graphs(insert_subgraphs))\n",
    "    result_subgraphs = sorted(result_subgraphs, key=len)\n",
    "    total_num = 0\n",
    "    for gr in result_subgraphs:\n",
    "        total_num += gr.number_of_nodes()\n",
    "    print('result nodes, ', total_num)\n",
    "    print('final get subgraphs ', len(result_subgraphs))\n",
    "    return result_subgraphs"
   ]
  },
  {
   "cell_type": "code",
   "execution_count": null,
   "metadata": {},
   "outputs": [],
   "source": [
    "b = get_uniform_node_number_subgraphs(G)"
   ]
  }
 ],
 "metadata": {
  "kernelspec": {
   "display_name": "Python 3",
   "language": "python",
   "name": "python3"
  },
  "language_info": {
   "codemirror_mode": {
    "name": "ipython",
    "version": 3
   },
   "file_extension": ".py",
   "mimetype": "text/x-python",
   "name": "python",
   "nbconvert_exporter": "python",
   "pygments_lexer": "ipython3",
   "version": "3.5.5"
  }
 },
 "nbformat": 4,
 "nbformat_minor": 2
}