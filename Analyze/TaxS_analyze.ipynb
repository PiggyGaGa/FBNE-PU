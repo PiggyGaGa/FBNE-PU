{
 "cells": [
  {
   "cell_type": "code",
   "execution_count": null,
   "metadata": {},
   "outputs": [],
   "source": [
    "import os\n",
    "import sys\n",
    "PACKAGE_PARENT = '..'\n",
    "sys.path.append(PACKAGE_PARENT)\n",
    "\n",
    "import pandas as pd\n",
    "from MGraphEmbedding.GraphConstruct import GraphConstruct\n",
    "from matplotlib import pyplot as plt\n",
    "import networkx as nx\n",
    "#import nxmetis"
   ]
  },
  {
   "cell_type": "code",
   "execution_count": null,
   "metadata": {},
   "outputs": [],
   "source": [
    "new_xukai = pd.read_pickle('../data/wd_nsr.pickle')['nsrdzdah']"
   ]
  },
  {
   "cell_type": "code",
   "execution_count": null,
   "metadata": {},
   "outputs": [],
   "source": [
    "\n",
    "container = GraphConstruct()\n",
    "\n",
    "Positive_namelist = ['../data/zzszyfp_xf.pickle', '../data/zzszyfp_gf.pickle']\n",
    "Unlabeled_namelist = ['../data/zzszyfp_xf_unlabeled.pickle', '../data/zzszyfp_gf_unlabeled.pickle']\n",
    "\n",
    "edges = container.get_all_edges_from_dataframe(container.merge_pickle(Positive_namelist + Unlabeled_namelist))\n",
    "print('total edes num {}'.format(len(edges.drop_duplicates())))\n",
    "G = container.construct_network(edges.values)"
   ]
  },
  {
   "cell_type": "code",
   "execution_count": null,
   "metadata": {},
   "outputs": [],
   "source": [
    "# 为网络的节点添加属性\n",
    "for node in G.nodes():\n",
    "    G.add_node(node, xukai=False)\n",
    "    \n",
    "for node in new_xukai:\n",
    "    G.add_node(node, xukai=True)\n",
    "print(G.number_of_nodes())"
   ]
  },
  {
   "cell_type": "markdown",
   "metadata": {},
   "source": [
    "# get degree of network\n",
    "\n",
    "degree =  nx.degree_histogram(G)          #返回图中所有节点的度分布序列\n",
    "x = range(len(degree))                             #生成x轴序列，从1到最大度\n",
    "y = [z / float(sum(degree)) for z in degree]  \n",
    "#将频次转换为频率，这用到Python的一个小技巧：列表内涵，Python的确很方便：）\n",
    "plt.loglog(x,y)           #在双对数坐标轴上绘制度分布曲线  \n",
    "plt.show()                                               "
   ]
  },
  {
   "cell_type": "code",
   "execution_count": null,
   "metadata": {},
   "outputs": [],
   "source": [
    "# in degree 其实没有入度和出度，因为是无向图\n",
    "import numpy as np\n",
    "in_degrees = list(G.degree())\n",
    "in_degree = [value[1] for value in in_degrees]\n",
    "# max degree of the network\n",
    "in_degree_num = {}\n",
    "for i in in_degree:\n",
    "    if i in in_degree_num:\n",
    "        in_degree_num[i] += 1\n",
    "    else:\n",
    "        in_degree_num[i] = 1    \n",
    "x = sorted(in_degree_num)\n",
    "y = [in_degree_num[k] for k in x]\n",
    "y = np.array(y) / G.number_of_nodes()\n",
    "save = pd.DataFrame({'x':x, 'y':y})\n",
    "save.to_pickle('./Figure/sh.pickle')\n",
    "plt.xlabel('Degree')\n",
    "plt.ylabel('Count')\n",
    "plt.loglog(x, y)\n",
    "plt.savefig('./Figure/shanghai.pdf')\n",
    "# 度分布呈现幂率分布特性，典型的无标度网络\n",
    "plt.show()\n",
    "sum_degree = 0\n",
    "for i in range(len(x)):\n",
    "    sum_degree = sum_degree + x[i] * y[i]\n",
    "average_degree = sum_degree / len(G.nodes())\n",
    "print('average degree', average_degree)"
   ]
  },
  {
   "cell_type": "code",
   "execution_count": null,
   "metadata": {},
   "outputs": [],
   "source": [
    "# 集聚系数 平均集聚系数\n",
    "#随机网络的平均聚集系数Crand为：0.0003463，C/Crand=78.689，所以C>>Crand，该社交网络的平均聚集系数这一特征也符合小世界网络的特征。"
   ]
  },
  {
   "cell_type": "code",
   "execution_count": null,
   "metadata": {},
   "outputs": [],
   "source": [
    "clusters = nx.clustering(G)\n",
    "avg_clusters = nx.average_clustering(G)\n",
    "avg_clusters"
   ]
  },
  {
   "cell_type": "code",
   "execution_count": null,
   "metadata": {},
   "outputs": [],
   "source": [
    "# cliques   团，小圈子\n",
    "cliques = nx.graph_number_of_cliques(G)\n",
    "cliques"
   ]
  },
  {
   "cell_type": "code",
   "execution_count": null,
   "metadata": {},
   "outputs": [],
   "source": [
    "# density\n",
    "density = nx.density(G)\n",
    "density\n",
    "# 密度非常低表示边的连接比较稀疏"
   ]
  },
  {
   "cell_type": "code",
   "execution_count": null,
   "metadata": {},
   "outputs": [],
   "source": []
  },
  {
   "cell_type": "code",
   "execution_count": null,
   "metadata": {},
   "outputs": [],
   "source": [
    "# subgraphs"
   ]
  },
  {
   "cell_type": "code",
   "execution_count": null,
   "metadata": {},
   "outputs": [],
   "source": [
    "subgraphs_nodes = nx.connected_components(G)\n",
    "subgraphs = []\n",
    "for c in sorted(subgraphs_nodes, key=len,reverse=True):\n",
    "    print(len(c))\n",
    "    subgraphs.append(G.subgraph(c))\n",
    "print('number of subgraphs {}'.format(len(subgraphs)))"
   ]
  },
  {
   "cell_type": "code",
   "execution_count": null,
   "metadata": {},
   "outputs": [],
   "source": [
    "# 直径\n",
    "# 直径表示交易的长度\n",
    "# diameter = nx.diameter(subgraphs[0])\n",
    "# diameter"
   ]
  },
  {
   "cell_type": "code",
   "execution_count": null,
   "metadata": {},
   "outputs": [],
   "source": [
    "# 中心度\n",
    "# 1， 点中心度， 2， 紧密中心度， 3， 介数中心度， 4， 特征向量中心度\n"
   ]
  },
  {
   "cell_type": "code",
   "execution_count": null,
   "metadata": {},
   "outputs": [],
   "source": [
    "# graph partitioning with Metis\n",
    "import nxmetis\n",
    "gg = subgraphs[2]\n",
    "nx.draw_networkx(gg, with_labels=False)\n",
    "sub_gg = nxmetis.partition(gg, 2, recursive=True)\n",
    "sub_gg[0]"
   ]
  },
  {
   "cell_type": "code",
   "execution_count": null,
   "metadata": {},
   "outputs": [],
   "source": [
    "ss = subgraphs[2].subgraph(sub_gg[1][1])\n",
    "nx.draw_networkx(ss, with_labels=False)"
   ]
  },
  {
   "cell_type": "code",
   "execution_count": null,
   "metadata": {},
   "outputs": [],
   "source": [
    "import community\n",
    "count = 1\n",
    "size = float(len(set(partitions.values()))) + 1\n",
    "partitions = community.best_partition(subgraphs[2])\n",
    "for com in set(partitions.values()):\n",
    "    count += 1\n",
    "    list_nodes = [nodes for nodes in partitions.keys() if partitions[nodes] == com]\n",
    "    nx.draw_networkx(subgraphs[2].subgraph(list_nodes), pos = nx.spring_layout(subgraphs[2]), with_labels=False, node_color=str(1 - count / size))"
   ]
  },
  {
   "cell_type": "code",
   "execution_count": null,
   "metadata": {},
   "outputs": [],
   "source": [
    "import community\n",
    "def get_subgraphs(G):\n",
    "    subgraphs_nodes = nx.connected_components(G)\n",
    "    subgraphs = []\n",
    "    for c in sorted(subgraphs_nodes, key=len,reverse=True):\n",
    "        subgraphs.append(G.subgraph(c))\n",
    "    new_subgraphs = []\n",
    "    new_subgraphs = new_subgraphs + subgraphs[1:]\n",
    "    partitions = community.best_partition(subgraphs[0])\n",
    "    for com in set(partitions.values()):\n",
    "        list_nodes = [nodes for nodes in partitions.keys() if partitions[nodes] == com]\n",
    "        new_subgraphs.append(nx.Graph(subgraphs[0].subgraph(list_nodes).edges()))\n",
    "    new_subgraphs = sorted(new_subgraphs, key=len, reverse=True)\n",
    "    print(len(new_subgraphs))\n",
    "    for i, graph in enumerate(new_subgraphs) :\n",
    "        if len(graph.nodes) > 1000:\n",
    "            print('{} graph information'.format(i))\n",
    "            print('nodes number {}'.format(len(graph.nodes())))\n",
    "            print('edges number {}\\n\\n'.format(len(graph.edges())))\n",
    "            nx.write_gexf(graph, './Figure/ShangHai/' +str(i) + '.gexf')\n",
    "    return new_subgraphs"
   ]
  },
  {
   "cell_type": "code",
   "execution_count": null,
   "metadata": {},
   "outputs": [],
   "source": [
    "a = get_subgraphs(G)"
   ]
  },
  {
   "cell_type": "code",
   "execution_count": null,
   "metadata": {},
   "outputs": [],
   "source": [
    "def get_uniform_node_number_subgraphs(G):\n",
    "    import community\n",
    "    subgraphs_nodes = nx.connected_components(G)\n",
    "    subgraphs = []\n",
    "    for c in sorted(subgraphs_nodes, key=len,reverse=True):\n",
    "        ap_graph = nx.Graph()\n",
    "        ap_graph.add_nodes_from(c)\n",
    "        ap_graph.add_edges_from(G.subgraph(c).edges())\n",
    "        subgraphs.append(ap_graph)\n",
    "    new_subgraphs = []\n",
    "    new_subgraphs = new_subgraphs + subgraphs[1:]\n",
    "    partitions = community.best_partition(subgraphs[0])\n",
    "    for com in set(partitions.values()):\n",
    "        list_nodes = [nodes for nodes in partitions.keys() if partitions[nodes] == com]\n",
    "        ap_graph = nx.Graph()\n",
    "        ap_graph.add_nodes_from(list_nodes)\n",
    "        ap_graph.add_edges_from(subgraphs[0].subgraph(list_nodes).edges())\n",
    "        new_subgraphs.append(ap_graph)\n",
    "    new_subgraphs = sorted(new_subgraphs, key=len)\n",
    "\n",
    "\n",
    "    print('total subgraphs ', len(new_subgraphs))\n",
    "    result_subgraphs = []\n",
    "    insert_subgraphs = []\n",
    "    total_nodes = 0\n",
    "    index = 0\n",
    "    for g in new_subgraphs:\n",
    "        if index == 0:\n",
    "            insert_subgraphs.append(g)\n",
    "            total_nodes += g.number_of_nodes()\n",
    "            index += 1\n",
    "            continue\n",
    "        if total_nodes > 1000:\n",
    "            result_subgraphs.append(conn_graphs(insert_subgraphs))\n",
    "            total_nodes = 0\n",
    "            insert_subgraphs = []\n",
    "            index += 1\n",
    "            insert_subgraphs.append(g)\n",
    "        else:\n",
    "            insert_subgraphs.append(g)\n",
    "            total_nodes += g.number_of_nodes()\n",
    "            index += 1\n",
    "    if total_nodes > 0:\n",
    "        result_subgraphs.append(conn_graphs(insert_subgraphs))\n",
    "    result_subgraphs = sorted(result_subgraphs, key=len)\n",
    "    total_num = 0\n",
    "    for gr in result_subgraphs:\n",
    "        total_num += gr.number_of_nodes()\n",
    "    print('result nodes, ', total_num)\n",
    "    print('final get subgraphs ', len(result_subgraphs))\n",
    "    return result_subgraphs"
   ]
  },
  {
   "cell_type": "code",
   "execution_count": null,
   "metadata": {},
   "outputs": [],
   "source": [
    "b = get_uniform_node_number_subgraphs(G)"
   ]
  }
 ],
 "metadata": {
  "kernelspec": {
   "display_name": "Python 3",
   "language": "python",
   "name": "python3"
  },
  "language_info": {
   "codemirror_mode": {
    "name": "ipython",
    "version": 3
   },
   "file_extension": ".py",
   "mimetype": "text/x-python",
   "name": "python",
   "nbconvert_exporter": "python",
   "pygments_lexer": "ipython3",
   "version": "3.7.9-final"
  }
 },
 "nbformat": 4,
 "nbformat_minor": 2
}